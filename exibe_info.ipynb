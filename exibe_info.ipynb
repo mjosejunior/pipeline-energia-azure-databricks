{
 "cells": [
  {
   "cell_type": "code",
   "execution_count": 0,
   "metadata": {
    "application/vnd.databricks.v1+cell": {
     "cellMetadata": {
      "byteLimit": 2048000,
      "rowLimit": 10000
     },
     "inputWidgets": {},
     "nuid": "25ab2de1-5b2d-4fef-b45a-6e8153b20a4c",
     "showTitle": false,
     "title": ""
    }
   },
   "outputs": [],
   "source": [
    "%fs ls /mnt/Aneel/Bronze/"
   ]
  },
  {
   "cell_type": "code",
   "execution_count": 0,
   "metadata": {
    "application/vnd.databricks.v1+cell": {
     "cellMetadata": {
      "byteLimit": 2048000,
      "rowLimit": 10000
     },
     "inputWidgets": {},
     "nuid": "b41ee097-a11b-4a27-ab58-ff3983756c39",
     "showTitle": false,
     "title": ""
    }
   },
   "outputs": [],
   "source": [
    "%fs ls /mnt/Aneel/Silver/"
   ]
  },
  {
   "cell_type": "code",
   "execution_count": 0,
   "metadata": {
    "application/vnd.databricks.v1+cell": {
     "cellMetadata": {
      "byteLimit": 2048000,
      "rowLimit": 10000
     },
     "inputWidgets": {},
     "nuid": "2527031e-ca51-4710-bb98-5db50aefe128",
     "showTitle": false,
     "title": ""
    }
   },
   "outputs": [],
   "source": [
    "%fs ls dbfs:/mnt/Aneel/Silver/dominio_indicadores_silver/"
   ]
  },
  {
   "cell_type": "code",
   "execution_count": 0,
   "metadata": {
    "application/vnd.databricks.v1+cell": {
     "cellMetadata": {
      "byteLimit": 2048000,
      "rowLimit": 10000
     },
     "inputWidgets": {},
     "nuid": "abcf564d-8eb0-473e-9d3b-bde39456b01e",
     "showTitle": false,
     "title": ""
    }
   },
   "outputs": [],
   "source": [
    "%fs ls /mnt/Aneel/Gold/"
   ]
  },
  {
   "cell_type": "code",
   "execution_count": 0,
   "metadata": {
    "application/vnd.databricks.v1+cell": {
     "cellMetadata": {
      "byteLimit": 2048000,
      "rowLimit": 10000
     },
     "inputWidgets": {},
     "nuid": "bafda98e-d557-4db2-b8ca-6a0b8ce0478c",
     "showTitle": false,
     "title": ""
    }
   },
   "outputs": [],
   "source": [
    "%fs ls dbfs:/mnt/Aneel/Gold/dim_agente/"
   ]
  },
  {
   "cell_type": "code",
   "execution_count": 0,
   "metadata": {
    "application/vnd.databricks.v1+cell": {
     "cellMetadata": {
      "byteLimit": 2048000,
      "rowLimit": 10000
     },
     "inputWidgets": {},
     "nuid": "59ed6837-cb12-4683-98be-43ab63464c98",
     "showTitle": false,
     "title": ""
    }
   },
   "outputs": [],
   "source": [
    "%fs ls dbfs:/mnt/Aneel/Gold/fact_inadimplencia/"
   ]
  }
 ],
 "metadata": {
  "application/vnd.databricks.v1+notebook": {
   "dashboards": [
    {
     "elements": [
      {
       "dashboardResultIndex": 0,
       "elementNUID": "25ab2de1-5b2d-4fef-b45a-6e8153b20a4c",
       "elementType": "command",
       "guid": "015239cc-06ca-485a-8d7a-0c0deb56d4dd",
       "options": null,
       "position": null,
       "resultIndex": null
      },
      {
       "dashboardResultIndex": 1,
       "elementNUID": "25ab2de1-5b2d-4fef-b45a-6e8153b20a4c",
       "elementType": "command",
       "guid": "2d2104d2-5686-4c7f-b123-ec8630fb8e6a",
       "options": null,
       "position": null,
       "resultIndex": null
      },
      {
       "dashboardResultIndex": 2,
       "elementNUID": "25ab2de1-5b2d-4fef-b45a-6e8153b20a4c",
       "elementType": "command",
       "guid": "43a135f9-c88a-418f-82e3-dc5e11b6afac",
       "options": null,
       "position": null,
       "resultIndex": null
      },
      {
       "dashboardResultIndex": 3,
       "elementNUID": "25ab2de1-5b2d-4fef-b45a-6e8153b20a4c",
       "elementType": "command",
       "guid": "f67b041e-5456-450d-a10e-c2b0b0579aa3",
       "options": null,
       "position": null,
       "resultIndex": null
      },
      {
       "dashboardResultIndex": 4,
       "elementNUID": "25ab2de1-5b2d-4fef-b45a-6e8153b20a4c",
       "elementType": "command",
       "guid": "45588cf4-282d-4f92-9063-b25c7eff55ef",
       "options": null,
       "position": null,
       "resultIndex": null
      }
     ],
     "globalVars": {},
     "guid": "",
     "layoutOption": {
      "grid": true,
      "stack": true
     },
     "nuid": "1a603241-8e7a-4f80-b7c4-c911b49573d6",
     "origId": 3731222904716028,
     "title": "Untitled",
     "version": "DashboardViewV1",
     "width": 1024
    }
   ],
   "environmentMetadata": null,
   "language": "python",
   "notebookMetadata": {
    "mostRecentlyExecutedCommandWithImplicitDF": {
     "commandId": 568471686644862,
     "dataframes": [
      "_sqldf"
     ]
    },
    "pythonIndentUnit": 4
   },
   "notebookName": "exibe_info",
   "widgets": {}
  }
 },
 "nbformat": 4,
 "nbformat_minor": 0
}
