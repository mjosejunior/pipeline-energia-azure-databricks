{
 "cells": [
  {
   "cell_type": "code",
   "execution_count": 0,
   "metadata": {
    "application/vnd.databricks.v1+cell": {
     "cellMetadata": {
      "byteLimit": 2048000,
      "rowLimit": 10000
     },
     "inputWidgets": {},
     "nuid": "25ab2de1-5b2d-4fef-b45a-6e8153b20a4c",
     "showTitle": false,
     "title": ""
    }
   },
   "outputs": [
    {
     "output_type": "display_data",
     "data": {
      "text/html": [
       "<style scoped>\n",
       "  .table-result-container {\n",
       "    max-height: 300px;\n",
       "    overflow: auto;\n",
       "  }\n",
       "  table, th, td {\n",
       "    border: 1px solid black;\n",
       "    border-collapse: collapse;\n",
       "  }\n",
       "  th, td {\n",
       "    padding: 5px;\n",
       "  }\n",
       "  th {\n",
       "    text-align: left;\n",
       "  }\n",
       "</style><div class='table-result-container'><table class='table-result'><thead style='background-color: white'><tr><th>path</th><th>name</th><th>size</th><th>modificationTime</th></tr></thead><tbody><tr><td>dbfs:/mnt/Aneel/Bronze/dominio-indicadores.csv</td><td>dominio-indicadores.csv</td><td>42489</td><td>1720575058000</td></tr><tr><td>dbfs:/mnt/Aneel/Bronze/inadimplencia.csv</td><td>inadimplencia.csv</td><td>50736249</td><td>1720575308000</td></tr><tr><td>dbfs:/mnt/Aneel/Bronze/inflacao_ipca.csv</td><td>inflacao_ipca.csv</td><td>1082</td><td>1720575120000</td></tr><tr><td>dbfs:/mnt/Aneel/Bronze/pib_bcdata.sgs.1207.csv</td><td>pib_bcdata.sgs.1207.csv</td><td>355</td><td>1720575021000</td></tr><tr><td>dbfs:/mnt/Aneel/Bronze/taxa_desemprego.csv</td><td>taxa_desemprego.csv</td><td>865</td><td>1720575079000</td></tr></tbody></table></div>"
      ]
     },
     "metadata": {
      "application/vnd.databricks.v1+output": {
       "addedWidgets": {},
       "aggData": [],
       "aggError": "",
       "aggOverflow": false,
       "aggSchema": [],
       "aggSeriesLimitReached": false,
       "aggType": "",
       "arguments": {},
       "columnCustomDisplayInfos": {},
       "data": [
        [
         "dbfs:/mnt/Aneel/Bronze/dominio-indicadores.csv",
         "dominio-indicadores.csv",
         42489,
         1720575058000
        ],
        [
         "dbfs:/mnt/Aneel/Bronze/inadimplencia.csv",
         "inadimplencia.csv",
         50736249,
         1720575308000
        ],
        [
         "dbfs:/mnt/Aneel/Bronze/inflacao_ipca.csv",
         "inflacao_ipca.csv",
         1082,
         1720575120000
        ],
        [
         "dbfs:/mnt/Aneel/Bronze/pib_bcdata.sgs.1207.csv",
         "pib_bcdata.sgs.1207.csv",
         355,
         1720575021000
        ],
        [
         "dbfs:/mnt/Aneel/Bronze/taxa_desemprego.csv",
         "taxa_desemprego.csv",
         865,
         1720575079000
        ]
       ],
       "datasetInfos": [],
       "dbfsResultPath": null,
       "isJsonSchema": true,
       "metadata": {
        "isDbfsCommandResult": false
       },
       "overflow": false,
       "plotOptions": {
        "customPlotOptions": {},
        "displayType": "table",
        "pivotAggregation": null,
        "pivotColumns": null,
        "xColumns": null,
        "yColumns": null
       },
       "removedWidgets": [],
       "schema": [
        {
         "metadata": "{}",
         "name": "path",
         "type": "\"string\""
        },
        {
         "metadata": "{}",
         "name": "name",
         "type": "\"string\""
        },
        {
         "metadata": "{}",
         "name": "size",
         "type": "\"long\""
        },
        {
         "metadata": "{}",
         "name": "modificationTime",
         "type": "\"long\""
        }
       ],
       "type": "table"
      }
     },
     "output_type": "display_data"
    }
   ],
   "source": [
    "%fs ls /mnt/Aneel/Bronze/"
   ]
  },
  {
   "cell_type": "code",
   "execution_count": 0,
   "metadata": {
    "application/vnd.databricks.v1+cell": {
     "cellMetadata": {
      "byteLimit": 2048000,
      "rowLimit": 10000
     },
     "inputWidgets": {},
     "nuid": "b41ee097-a11b-4a27-ab58-ff3983756c39",
     "showTitle": false,
     "title": ""
    }
   },
   "outputs": [
    {
     "output_type": "display_data",
     "data": {
      "text/html": [
       "<style scoped>\n",
       "  .table-result-container {\n",
       "    max-height: 300px;\n",
       "    overflow: auto;\n",
       "  }\n",
       "  table, th, td {\n",
       "    border: 1px solid black;\n",
       "    border-collapse: collapse;\n",
       "  }\n",
       "  th, td {\n",
       "    padding: 5px;\n",
       "  }\n",
       "  th {\n",
       "    text-align: left;\n",
       "  }\n",
       "</style><div class='table-result-container'><table class='table-result'><thead style='background-color: white'><tr><th>path</th><th>name</th><th>size</th><th>modificationTime</th></tr></thead><tbody><tr><td>dbfs:/mnt/Aneel/Silver/dominio_indicadores_silver/</td><td>dominio_indicadores_silver/</td><td>0</td><td>1720583613000</td></tr><tr><td>dbfs:/mnt/Aneel/Silver/economicos_silver/</td><td>economicos_silver/</td><td>0</td><td>1720583612000</td></tr><tr><td>dbfs:/mnt/Aneel/Silver/inadimplencia_silver/</td><td>inadimplencia_silver/</td><td>0</td><td>1720583609000</td></tr></tbody></table></div>"
      ]
     },
     "metadata": {
      "application/vnd.databricks.v1+output": {
       "addedWidgets": {},
       "aggData": [],
       "aggError": "",
       "aggOverflow": false,
       "aggSchema": [],
       "aggSeriesLimitReached": false,
       "aggType": "",
       "arguments": {},
       "columnCustomDisplayInfos": {},
       "data": [
        [
         "dbfs:/mnt/Aneel/Silver/dominio_indicadores_silver/",
         "dominio_indicadores_silver/",
         0,
         1720583613000
        ],
        [
         "dbfs:/mnt/Aneel/Silver/economicos_silver/",
         "economicos_silver/",
         0,
         1720583612000
        ],
        [
         "dbfs:/mnt/Aneel/Silver/inadimplencia_silver/",
         "inadimplencia_silver/",
         0,
         1720583609000
        ]
       ],
       "datasetInfos": [],
       "dbfsResultPath": null,
       "isJsonSchema": true,
       "metadata": {
        "isDbfsCommandResult": false
       },
       "overflow": false,
       "plotOptions": {
        "customPlotOptions": {},
        "displayType": "table",
        "pivotAggregation": null,
        "pivotColumns": null,
        "xColumns": null,
        "yColumns": null
       },
       "removedWidgets": [],
       "schema": [
        {
         "metadata": "{}",
         "name": "path",
         "type": "\"string\""
        },
        {
         "metadata": "{}",
         "name": "name",
         "type": "\"string\""
        },
        {
         "metadata": "{}",
         "name": "size",
         "type": "\"long\""
        },
        {
         "metadata": "{}",
         "name": "modificationTime",
         "type": "\"long\""
        }
       ],
       "type": "table"
      }
     },
     "output_type": "display_data"
    }
   ],
   "source": [
    "%fs ls /mnt/Aneel/Silver/"
   ]
  },
  {
   "cell_type": "code",
   "execution_count": 0,
   "metadata": {
    "application/vnd.databricks.v1+cell": {
     "cellMetadata": {
      "byteLimit": 2048000,
      "rowLimit": 10000
     },
     "inputWidgets": {},
     "nuid": "2527031e-ca51-4710-bb98-5db50aefe128",
     "showTitle": false,
     "title": ""
    }
   },
   "outputs": [
    {
     "output_type": "display_data",
     "data": {
      "text/html": [
       "<style scoped>\n",
       "  .table-result-container {\n",
       "    max-height: 300px;\n",
       "    overflow: auto;\n",
       "  }\n",
       "  table, th, td {\n",
       "    border: 1px solid black;\n",
       "    border-collapse: collapse;\n",
       "  }\n",
       "  th, td {\n",
       "    padding: 5px;\n",
       "  }\n",
       "  th {\n",
       "    text-align: left;\n",
       "  }\n",
       "</style><div class='table-result-container'><table class='table-result'><thead style='background-color: white'><tr><th>path</th><th>name</th><th>size</th><th>modificationTime</th></tr></thead><tbody><tr><td>dbfs:/mnt/Aneel/Silver/dominio_indicadores_silver/_SUCCESS</td><td>_SUCCESS</td><td>0</td><td>1720626098000</td></tr><tr><td>dbfs:/mnt/Aneel/Silver/dominio_indicadores_silver/_committed_4093102051999045597</td><td>_committed_4093102051999045597</td><td>123</td><td>1720583613000</td></tr><tr><td>dbfs:/mnt/Aneel/Silver/dominio_indicadores_silver/_committed_7276176950876919515</td><td>_committed_7276176950876919515</td><td>232</td><td>1720626098000</td></tr><tr><td>dbfs:/mnt/Aneel/Silver/dominio_indicadores_silver/_committed_8156515103279372016</td><td>_committed_8156515103279372016</td><td>232</td><td>1720626098000</td></tr><tr><td>dbfs:/mnt/Aneel/Silver/dominio_indicadores_silver/_committed_vacuum7173324508931440251</td><td>_committed_vacuum7173324508931440251</td><td>96</td><td>1720626098000</td></tr><tr><td>dbfs:/mnt/Aneel/Silver/dominio_indicadores_silver/_started_7276176950876919515</td><td>_started_7276176950876919515</td><td>0</td><td>1720626097000</td></tr><tr><td>dbfs:/mnt/Aneel/Silver/dominio_indicadores_silver/_started_8156515103279372016</td><td>_started_8156515103279372016</td><td>0</td><td>1720626097000</td></tr><tr><td>dbfs:/mnt/Aneel/Silver/dominio_indicadores_silver/part-00000-tid-7276176950876919515-4f337a73-3062-4c77-8e46-41287c01a7b8-71-1.c000.snappy.parquet</td><td>part-00000-tid-7276176950876919515-4f337a73-3062-4c77-8e46-41287c01a7b8-71-1.c000.snappy.parquet</td><td>11065</td><td>1720626097000</td></tr><tr><td>dbfs:/mnt/Aneel/Silver/dominio_indicadores_silver/part-00000-tid-8156515103279372016-ad571bae-c235-4ff6-834a-d6c2eb4c4ae8-70-1.c000.snappy.parquet</td><td>part-00000-tid-8156515103279372016-ad571bae-c235-4ff6-834a-d6c2eb4c4ae8-70-1.c000.snappy.parquet</td><td>11065</td><td>1720626097000</td></tr></tbody></table></div>"
      ]
     },
     "metadata": {
      "application/vnd.databricks.v1+output": {
       "addedWidgets": {},
       "aggData": [],
       "aggError": "",
       "aggOverflow": false,
       "aggSchema": [],
       "aggSeriesLimitReached": false,
       "aggType": "",
       "arguments": {},
       "columnCustomDisplayInfos": {},
       "data": [
        [
         "dbfs:/mnt/Aneel/Silver/dominio_indicadores_silver/_SUCCESS",
         "_SUCCESS",
         0,
         1720626098000
        ],
        [
         "dbfs:/mnt/Aneel/Silver/dominio_indicadores_silver/_committed_4093102051999045597",
         "_committed_4093102051999045597",
         123,
         1720583613000
        ],
        [
         "dbfs:/mnt/Aneel/Silver/dominio_indicadores_silver/_committed_7276176950876919515",
         "_committed_7276176950876919515",
         232,
         1720626098000
        ],
        [
         "dbfs:/mnt/Aneel/Silver/dominio_indicadores_silver/_committed_8156515103279372016",
         "_committed_8156515103279372016",
         232,
         1720626098000
        ],
        [
         "dbfs:/mnt/Aneel/Silver/dominio_indicadores_silver/_committed_vacuum7173324508931440251",
         "_committed_vacuum7173324508931440251",
         96,
         1720626098000
        ],
        [
         "dbfs:/mnt/Aneel/Silver/dominio_indicadores_silver/_started_7276176950876919515",
         "_started_7276176950876919515",
         0,
         1720626097000
        ],
        [
         "dbfs:/mnt/Aneel/Silver/dominio_indicadores_silver/_started_8156515103279372016",
         "_started_8156515103279372016",
         0,
         1720626097000
        ],
        [
         "dbfs:/mnt/Aneel/Silver/dominio_indicadores_silver/part-00000-tid-7276176950876919515-4f337a73-3062-4c77-8e46-41287c01a7b8-71-1.c000.snappy.parquet",
         "part-00000-tid-7276176950876919515-4f337a73-3062-4c77-8e46-41287c01a7b8-71-1.c000.snappy.parquet",
         11065,
         1720626097000
        ],
        [
         "dbfs:/mnt/Aneel/Silver/dominio_indicadores_silver/part-00000-tid-8156515103279372016-ad571bae-c235-4ff6-834a-d6c2eb4c4ae8-70-1.c000.snappy.parquet",
         "part-00000-tid-8156515103279372016-ad571bae-c235-4ff6-834a-d6c2eb4c4ae8-70-1.c000.snappy.parquet",
         11065,
         1720626097000
        ]
       ],
       "datasetInfos": [],
       "dbfsResultPath": null,
       "isJsonSchema": true,
       "metadata": {
        "isDbfsCommandResult": false
       },
       "overflow": false,
       "plotOptions": {
        "customPlotOptions": {},
        "displayType": "table",
        "pivotAggregation": null,
        "pivotColumns": null,
        "xColumns": null,
        "yColumns": null
       },
       "removedWidgets": [],
       "schema": [
        {
         "metadata": "{}",
         "name": "path",
         "type": "\"string\""
        },
        {
         "metadata": "{}",
         "name": "name",
         "type": "\"string\""
        },
        {
         "metadata": "{}",
         "name": "size",
         "type": "\"long\""
        },
        {
         "metadata": "{}",
         "name": "modificationTime",
         "type": "\"long\""
        }
       ],
       "type": "table"
      }
     },
     "output_type": "display_data"
    }
   ],
   "source": [
    "%fs ls dbfs:/mnt/Aneel/Silver/dominio_indicadores_silver/"
   ]
  },
  {
   "cell_type": "code",
   "execution_count": 0,
   "metadata": {
    "application/vnd.databricks.v1+cell": {
     "cellMetadata": {
      "byteLimit": 2048000,
      "rowLimit": 10000
     },
     "inputWidgets": {},
     "nuid": "abcf564d-8eb0-473e-9d3b-bde39456b01e",
     "showTitle": false,
     "title": ""
    }
   },
   "outputs": [
    {
     "output_type": "display_data",
     "data": {
      "text/html": [
       "<style scoped>\n",
       "  .table-result-container {\n",
       "    max-height: 300px;\n",
       "    overflow: auto;\n",
       "  }\n",
       "  table, th, td {\n",
       "    border: 1px solid black;\n",
       "    border-collapse: collapse;\n",
       "  }\n",
       "  th, td {\n",
       "    padding: 5px;\n",
       "  }\n",
       "  th {\n",
       "    text-align: left;\n",
       "  }\n",
       "</style><div class='table-result-container'><table class='table-result'><thead style='background-color: white'><tr><th>path</th><th>name</th><th>size</th><th>modificationTime</th></tr></thead><tbody><tr><td>dbfs:/mnt/Aneel/Gold/dim_agente/</td><td>dim_agente/</td><td>0</td><td>1720583651000</td></tr><tr><td>dbfs:/mnt/Aneel/Gold/dim_indicador/</td><td>dim_indicador/</td><td>0</td><td>1720583652000</td></tr><tr><td>dbfs:/mnt/Aneel/Gold/dim_tempo/</td><td>dim_tempo/</td><td>0</td><td>1720583653000</td></tr><tr><td>dbfs:/mnt/Aneel/Gold/fact_economicos/</td><td>fact_economicos/</td><td>0</td><td>1720583650000</td></tr><tr><td>dbfs:/mnt/Aneel/Gold/fact_inadimplencia/</td><td>fact_inadimplencia/</td><td>0</td><td>1720583649000</td></tr></tbody></table></div>"
      ]
     },
     "metadata": {
      "application/vnd.databricks.v1+output": {
       "addedWidgets": {},
       "aggData": [],
       "aggError": "",
       "aggOverflow": false,
       "aggSchema": [],
       "aggSeriesLimitReached": false,
       "aggType": "",
       "arguments": {},
       "columnCustomDisplayInfos": {},
       "data": [
        [
         "dbfs:/mnt/Aneel/Gold/dim_agente/",
         "dim_agente/",
         0,
         1720583651000
        ],
        [
         "dbfs:/mnt/Aneel/Gold/dim_indicador/",
         "dim_indicador/",
         0,
         1720583652000
        ],
        [
         "dbfs:/mnt/Aneel/Gold/dim_tempo/",
         "dim_tempo/",
         0,
         1720583653000
        ],
        [
         "dbfs:/mnt/Aneel/Gold/fact_economicos/",
         "fact_economicos/",
         0,
         1720583650000
        ],
        [
         "dbfs:/mnt/Aneel/Gold/fact_inadimplencia/",
         "fact_inadimplencia/",
         0,
         1720583649000
        ]
       ],
       "datasetInfos": [],
       "dbfsResultPath": null,
       "isJsonSchema": true,
       "metadata": {
        "isDbfsCommandResult": false
       },
       "overflow": false,
       "plotOptions": {
        "customPlotOptions": {},
        "displayType": "table",
        "pivotAggregation": null,
        "pivotColumns": null,
        "xColumns": null,
        "yColumns": null
       },
       "removedWidgets": [],
       "schema": [
        {
         "metadata": "{}",
         "name": "path",
         "type": "\"string\""
        },
        {
         "metadata": "{}",
         "name": "name",
         "type": "\"string\""
        },
        {
         "metadata": "{}",
         "name": "size",
         "type": "\"long\""
        },
        {
         "metadata": "{}",
         "name": "modificationTime",
         "type": "\"long\""
        }
       ],
       "type": "table"
      }
     },
     "output_type": "display_data"
    }
   ],
   "source": [
    "%fs ls /mnt/Aneel/Gold/"
   ]
  },
  {
   "cell_type": "code",
   "execution_count": 0,
   "metadata": {
    "application/vnd.databricks.v1+cell": {
     "cellMetadata": {
      "byteLimit": 2048000,
      "rowLimit": 10000
     },
     "inputWidgets": {},
     "nuid": "bafda98e-d557-4db2-b8ca-6a0b8ce0478c",
     "showTitle": false,
     "title": ""
    }
   },
   "outputs": [
    {
     "output_type": "display_data",
     "data": {
      "text/html": [
       "<style scoped>\n",
       "  .table-result-container {\n",
       "    max-height: 300px;\n",
       "    overflow: auto;\n",
       "  }\n",
       "  table, th, td {\n",
       "    border: 1px solid black;\n",
       "    border-collapse: collapse;\n",
       "  }\n",
       "  th, td {\n",
       "    padding: 5px;\n",
       "  }\n",
       "  th {\n",
       "    text-align: left;\n",
       "  }\n",
       "</style><div class='table-result-container'><table class='table-result'><thead style='background-color: white'><tr><th>path</th><th>name</th><th>size</th><th>modificationTime</th></tr></thead><tbody><tr><td>dbfs:/mnt/Aneel/Gold/dim_agente/_SUCCESS</td><td>_SUCCESS</td><td>0</td><td>1720626147000</td></tr><tr><td>dbfs:/mnt/Aneel/Gold/dim_agente/_committed_1146261682053239050</td><td>_committed_1146261682053239050</td><td>233</td><td>1720626140000</td></tr><tr><td>dbfs:/mnt/Aneel/Gold/dim_agente/_committed_1509332977077471072</td><td>_committed_1509332977077471072</td><td>123</td><td>1720583651000</td></tr><tr><td>dbfs:/mnt/Aneel/Gold/dim_agente/_committed_4939576914730550070</td><td>_committed_4939576914730550070</td><td>223</td><td>1720626146000</td></tr><tr><td>dbfs:/mnt/Aneel/Gold/dim_agente/_committed_vacuum8188449794001650733</td><td>_committed_vacuum8188449794001650733</td><td>96</td><td>1720626141000</td></tr><tr><td>dbfs:/mnt/Aneel/Gold/dim_agente/_started_1146261682053239050</td><td>_started_1146261682053239050</td><td>0</td><td>1720626140000</td></tr><tr><td>dbfs:/mnt/Aneel/Gold/dim_agente/_started_4939576914730550070</td><td>_started_4939576914730550070</td><td>0</td><td>1720626145000</td></tr><tr><td>dbfs:/mnt/Aneel/Gold/dim_agente/part-00000-tid-4939576914730550070-ada31d86-91c2-4da7-8818-b35afe34e23b-126-1.c000.snappy.parquet</td><td>part-00000-tid-4939576914730550070-ada31d86-91c2-4da7-8818-b35afe34e23b-126-1.c000.snappy.parquet</td><td>2439</td><td>1720626146000</td></tr></tbody></table></div>"
      ]
     },
     "metadata": {
      "application/vnd.databricks.v1+output": {
       "addedWidgets": {},
       "aggData": [],
       "aggError": "",
       "aggOverflow": false,
       "aggSchema": [],
       "aggSeriesLimitReached": false,
       "aggType": "",
       "arguments": {},
       "columnCustomDisplayInfos": {},
       "data": [
        [
         "dbfs:/mnt/Aneel/Gold/dim_agente/_SUCCESS",
         "_SUCCESS",
         0,
         1720626147000
        ],
        [
         "dbfs:/mnt/Aneel/Gold/dim_agente/_committed_1146261682053239050",
         "_committed_1146261682053239050",
         233,
         1720626140000
        ],
        [
         "dbfs:/mnt/Aneel/Gold/dim_agente/_committed_1509332977077471072",
         "_committed_1509332977077471072",
         123,
         1720583651000
        ],
        [
         "dbfs:/mnt/Aneel/Gold/dim_agente/_committed_4939576914730550070",
         "_committed_4939576914730550070",
         223,
         1720626146000
        ],
        [
         "dbfs:/mnt/Aneel/Gold/dim_agente/_committed_vacuum8188449794001650733",
         "_committed_vacuum8188449794001650733",
         96,
         1720626141000
        ],
        [
         "dbfs:/mnt/Aneel/Gold/dim_agente/_started_1146261682053239050",
         "_started_1146261682053239050",
         0,
         1720626140000
        ],
        [
         "dbfs:/mnt/Aneel/Gold/dim_agente/_started_4939576914730550070",
         "_started_4939576914730550070",
         0,
         1720626145000
        ],
        [
         "dbfs:/mnt/Aneel/Gold/dim_agente/part-00000-tid-4939576914730550070-ada31d86-91c2-4da7-8818-b35afe34e23b-126-1.c000.snappy.parquet",
         "part-00000-tid-4939576914730550070-ada31d86-91c2-4da7-8818-b35afe34e23b-126-1.c000.snappy.parquet",
         2439,
         1720626146000
        ]
       ],
       "datasetInfos": [],
       "dbfsResultPath": null,
       "isJsonSchema": true,
       "metadata": {
        "isDbfsCommandResult": false
       },
       "overflow": false,
       "plotOptions": {
        "customPlotOptions": {},
        "displayType": "table",
        "pivotAggregation": null,
        "pivotColumns": null,
        "xColumns": null,
        "yColumns": null
       },
       "removedWidgets": [],
       "schema": [
        {
         "metadata": "{}",
         "name": "path",
         "type": "\"string\""
        },
        {
         "metadata": "{}",
         "name": "name",
         "type": "\"string\""
        },
        {
         "metadata": "{}",
         "name": "size",
         "type": "\"long\""
        },
        {
         "metadata": "{}",
         "name": "modificationTime",
         "type": "\"long\""
        }
       ],
       "type": "table"
      }
     },
     "output_type": "display_data"
    }
   ],
   "source": [
    "%fs ls dbfs:/mnt/Aneel/Gold/dim_agente/"
   ]
  },
  {
   "cell_type": "code",
   "execution_count": 0,
   "metadata": {
    "application/vnd.databricks.v1+cell": {
     "cellMetadata": {
      "byteLimit": 2048000,
      "rowLimit": 10000
     },
     "inputWidgets": {},
     "nuid": "59ed6837-cb12-4683-98be-43ab63464c98",
     "showTitle": false,
     "title": ""
    }
   },
   "outputs": [
    {
     "output_type": "display_data",
     "data": {
      "text/html": [
       "<style scoped>\n",
       "  .table-result-container {\n",
       "    max-height: 300px;\n",
       "    overflow: auto;\n",
       "  }\n",
       "  table, th, td {\n",
       "    border: 1px solid black;\n",
       "    border-collapse: collapse;\n",
       "  }\n",
       "  th, td {\n",
       "    padding: 5px;\n",
       "  }\n",
       "  th {\n",
       "    text-align: left;\n",
       "  }\n",
       "</style><div class='table-result-container'><table class='table-result'><thead style='background-color: white'><tr><th>path</th><th>name</th><th>size</th><th>modificationTime</th></tr></thead><tbody><tr><td>dbfs:/mnt/Aneel/Gold/fact_inadimplencia/_SUCCESS</td><td>_SUCCESS</td><td>0</td><td>1720626144000</td></tr><tr><td>dbfs:/mnt/Aneel/Gold/fact_inadimplencia/_committed_5023491779561229392</td><td>_committed_5023491779561229392</td><td>420</td><td>1720583649000</td></tr><tr><td>dbfs:/mnt/Aneel/Gold/fact_inadimplencia/_committed_5070952791321095046</td><td>_committed_5070952791321095046</td><td>826</td><td>1720626137000</td></tr><tr><td>dbfs:/mnt/Aneel/Gold/fact_inadimplencia/_committed_5872585263751363462</td><td>_committed_5872585263751363462</td><td>819</td><td>1720626144000</td></tr><tr><td>dbfs:/mnt/Aneel/Gold/fact_inadimplencia/_committed_vacuum4941538229347243862</td><td>_committed_vacuum4941538229347243862</td><td>96</td><td>1720626137000</td></tr><tr><td>dbfs:/mnt/Aneel/Gold/fact_inadimplencia/_started_5070952791321095046</td><td>_started_5070952791321095046</td><td>0</td><td>1720626136000</td></tr><tr><td>dbfs:/mnt/Aneel/Gold/fact_inadimplencia/_started_5872585263751363462</td><td>_started_5872585263751363462</td><td>0</td><td>1720626143000</td></tr><tr><td>dbfs:/mnt/Aneel/Gold/fact_inadimplencia/part-00000-tid-5872585263751363462-d84d9918-7c64-43e4-aaca-66a4815a7ddb-113-1.c000.snappy.parquet</td><td>part-00000-tid-5872585263751363462-d84d9918-7c64-43e4-aaca-66a4815a7ddb-113-1.c000.snappy.parquet</td><td>1223555</td><td>1720626143000</td></tr><tr><td>dbfs:/mnt/Aneel/Gold/fact_inadimplencia/part-00001-tid-5872585263751363462-d84d9918-7c64-43e4-aaca-66a4815a7ddb-114-1.c000.snappy.parquet</td><td>part-00001-tid-5872585263751363462-d84d9918-7c64-43e4-aaca-66a4815a7ddb-114-1.c000.snappy.parquet</td><td>1223555</td><td>1720626143000</td></tr><tr><td>dbfs:/mnt/Aneel/Gold/fact_inadimplencia/part-00002-tid-5872585263751363462-d84d9918-7c64-43e4-aaca-66a4815a7ddb-115-1.c000.snappy.parquet</td><td>part-00002-tid-5872585263751363462-d84d9918-7c64-43e4-aaca-66a4815a7ddb-115-1.c000.snappy.parquet</td><td>1035164</td><td>1720626143000</td></tr><tr><td>dbfs:/mnt/Aneel/Gold/fact_inadimplencia/part-00003-tid-5872585263751363462-d84d9918-7c64-43e4-aaca-66a4815a7ddb-116-1.c000.snappy.parquet</td><td>part-00003-tid-5872585263751363462-d84d9918-7c64-43e4-aaca-66a4815a7ddb-116-1.c000.snappy.parquet</td><td>1035164</td><td>1720626143000</td></tr></tbody></table></div>"
      ]
     },
     "metadata": {
      "application/vnd.databricks.v1+output": {
       "addedWidgets": {},
       "aggData": [],
       "aggError": "",
       "aggOverflow": false,
       "aggSchema": [],
       "aggSeriesLimitReached": false,
       "aggType": "",
       "arguments": {},
       "columnCustomDisplayInfos": {},
       "data": [
        [
         "dbfs:/mnt/Aneel/Gold/fact_inadimplencia/_SUCCESS",
         "_SUCCESS",
         0,
         1720626144000
        ],
        [
         "dbfs:/mnt/Aneel/Gold/fact_inadimplencia/_committed_5023491779561229392",
         "_committed_5023491779561229392",
         420,
         1720583649000
        ],
        [
         "dbfs:/mnt/Aneel/Gold/fact_inadimplencia/_committed_5070952791321095046",
         "_committed_5070952791321095046",
         826,
         1720626137000
        ],
        [
         "dbfs:/mnt/Aneel/Gold/fact_inadimplencia/_committed_5872585263751363462",
         "_committed_5872585263751363462",
         819,
         1720626144000
        ],
        [
         "dbfs:/mnt/Aneel/Gold/fact_inadimplencia/_committed_vacuum4941538229347243862",
         "_committed_vacuum4941538229347243862",
         96,
         1720626137000
        ],
        [
         "dbfs:/mnt/Aneel/Gold/fact_inadimplencia/_started_5070952791321095046",
         "_started_5070952791321095046",
         0,
         1720626136000
        ],
        [
         "dbfs:/mnt/Aneel/Gold/fact_inadimplencia/_started_5872585263751363462",
         "_started_5872585263751363462",
         0,
         1720626143000
        ],
        [
         "dbfs:/mnt/Aneel/Gold/fact_inadimplencia/part-00000-tid-5872585263751363462-d84d9918-7c64-43e4-aaca-66a4815a7ddb-113-1.c000.snappy.parquet",
         "part-00000-tid-5872585263751363462-d84d9918-7c64-43e4-aaca-66a4815a7ddb-113-1.c000.snappy.parquet",
         1223555,
         1720626143000
        ],
        [
         "dbfs:/mnt/Aneel/Gold/fact_inadimplencia/part-00001-tid-5872585263751363462-d84d9918-7c64-43e4-aaca-66a4815a7ddb-114-1.c000.snappy.parquet",
         "part-00001-tid-5872585263751363462-d84d9918-7c64-43e4-aaca-66a4815a7ddb-114-1.c000.snappy.parquet",
         1223555,
         1720626143000
        ],
        [
         "dbfs:/mnt/Aneel/Gold/fact_inadimplencia/part-00002-tid-5872585263751363462-d84d9918-7c64-43e4-aaca-66a4815a7ddb-115-1.c000.snappy.parquet",
         "part-00002-tid-5872585263751363462-d84d9918-7c64-43e4-aaca-66a4815a7ddb-115-1.c000.snappy.parquet",
         1035164,
         1720626143000
        ],
        [
         "dbfs:/mnt/Aneel/Gold/fact_inadimplencia/part-00003-tid-5872585263751363462-d84d9918-7c64-43e4-aaca-66a4815a7ddb-116-1.c000.snappy.parquet",
         "part-00003-tid-5872585263751363462-d84d9918-7c64-43e4-aaca-66a4815a7ddb-116-1.c000.snappy.parquet",
         1035164,
         1720626143000
        ]
       ],
       "datasetInfos": [],
       "dbfsResultPath": null,
       "isJsonSchema": true,
       "metadata": {
        "isDbfsCommandResult": false
       },
       "overflow": false,
       "plotOptions": {
        "customPlotOptions": {},
        "displayType": "table",
        "pivotAggregation": null,
        "pivotColumns": null,
        "xColumns": null,
        "yColumns": null
       },
       "removedWidgets": [],
       "schema": [
        {
         "metadata": "{}",
         "name": "path",
         "type": "\"string\""
        },
        {
         "metadata": "{}",
         "name": "name",
         "type": "\"string\""
        },
        {
         "metadata": "{}",
         "name": "size",
         "type": "\"long\""
        },
        {
         "metadata": "{}",
         "name": "modificationTime",
         "type": "\"long\""
        }
       ],
       "type": "table"
      }
     },
     "output_type": "display_data"
    }
   ],
   "source": [
    "%fs ls dbfs:/mnt/Aneel/Gold/fact_inadimplencia/"
   ]
  }
 ],
 "metadata": {
  "application/vnd.databricks.v1+notebook": {
   "dashboards": [
    {
     "elements": [
      {
       "dashboardResultIndex": 0,
       "elementNUID": "25ab2de1-5b2d-4fef-b45a-6e8153b20a4c",
       "elementType": "command",
       "guid": "015239cc-06ca-485a-8d7a-0c0deb56d4dd",
       "options": null,
       "position": null,
       "resultIndex": null
      },
      {
       "dashboardResultIndex": 1,
       "elementNUID": "25ab2de1-5b2d-4fef-b45a-6e8153b20a4c",
       "elementType": "command",
       "guid": "2d2104d2-5686-4c7f-b123-ec8630fb8e6a",
       "options": null,
       "position": null,
       "resultIndex": null
      },
      {
       "dashboardResultIndex": 2,
       "elementNUID": "25ab2de1-5b2d-4fef-b45a-6e8153b20a4c",
       "elementType": "command",
       "guid": "43a135f9-c88a-418f-82e3-dc5e11b6afac",
       "options": null,
       "position": null,
       "resultIndex": null
      },
      {
       "dashboardResultIndex": 3,
       "elementNUID": "25ab2de1-5b2d-4fef-b45a-6e8153b20a4c",
       "elementType": "command",
       "guid": "f67b041e-5456-450d-a10e-c2b0b0579aa3",
       "options": null,
       "position": null,
       "resultIndex": null
      },
      {
       "dashboardResultIndex": 4,
       "elementNUID": "25ab2de1-5b2d-4fef-b45a-6e8153b20a4c",
       "elementType": "command",
       "guid": "45588cf4-282d-4f92-9063-b25c7eff55ef",
       "options": null,
       "position": null,
       "resultIndex": null
      }
     ],
     "globalVars": {},
     "guid": "",
     "layoutOption": {
      "grid": true,
      "stack": true
     },
     "nuid": "1a603241-8e7a-4f80-b7c4-c911b49573d6",
     "origId": 3731222904716028,
     "title": "Untitled",
     "version": "DashboardViewV1",
     "width": 1024
    }
   ],
   "environmentMetadata": null,
   "language": "python",
   "notebookMetadata": {
    "mostRecentlyExecutedCommandWithImplicitDF": {
     "commandId": 568471686644862,
     "dataframes": [
      "_sqldf"
     ]
    },
    "pythonIndentUnit": 4
   },
   "notebookName": "exibe_info",
   "widgets": {}
  }
 },
 "nbformat": 4,
 "nbformat_minor": 0
}
