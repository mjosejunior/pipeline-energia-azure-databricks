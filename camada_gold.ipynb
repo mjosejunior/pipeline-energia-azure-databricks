{
 "cells": [
  {
   "cell_type": "code",
   "execution_count": 0,
   "metadata": {
    "application/vnd.databricks.v1+cell": {
     "cellMetadata": {
      "byteLimit": 2048000,
      "rowLimit": 10000
     },
     "inputWidgets": {},
     "nuid": "b3061af1-deea-4099-b22e-cc83562b9413",
     "showTitle": false,
     "title": ""
    }
   },
   "outputs": [],
   "source": [
    "# Databricks notebook source\n",
    "# DBTITLE 1,Importação de Bibliotecas\n",
    "from pyspark.sql import SparkSession\n",
    "from pyspark.sql.functions import col, when\n",
    "\n",
    "# DBTITLE 1,Criação da SparkSession\n",
    "spark = SparkSession.builder.appName(\"CamadaGold\").getOrCreate()\n",
    "\n",
    "# DBTITLE 1,Carregar Dados da Camada Silver\n",
    "inadimplencia_silver_df = spark.read.format('parquet').load('dbfs:/mnt/Aneel/Silver/inadimplencia_silver')\n",
    "economicos_silver_df = spark.read.format('parquet').load('dbfs:/mnt/Aneel/Silver/economicos_silver')\n",
    "dominio_indicadores_silver_df = spark.read.format('parquet').load('dbfs:/mnt/Aneel/Silver/dominio_indicadores_silver')\n",
    "\n",
    "# Verificar dados carregados\n",
    "print(\"Dados da Camada Silver\")\n",
    "display(inadimplencia_silver_df)\n",
    "display(economicos_silver_df)\n",
    "display(dominio_indicadores_silver_df)\n",
    "\n",
    "# DBTITLE 1,Criar Tabelas Dimensão e Fato\n",
    "# Tabela Fato de Inadimplência\n",
    "fact_inadimplencia = inadimplencia_silver_df.select(\n",
    "    'AnoIndice', 'SigAgente', 'SigIndicador', 'VlrIndiceEnviado', 'DatGeracaoConjuntoDados'\n",
    ")\n",
    "fact_inadimplencia.write.format('parquet').mode('overwrite').save('dbfs:/mnt/Aneel/Gold/fact_inadimplencia')\n",
    "\n",
    "# Tabela Fato de Dados Econômicos\n",
    "fact_economicos = economicos_silver_df.select(\n",
    "    'AnoIndice', 'TaxaDesemprego', 'Inflacao', 'PIB'\n",
    ")\n",
    "fact_economicos.write.format('parquet').mode('overwrite').save('dbfs:/mnt/Aneel/Gold/fact_economicos')\n",
    "\n",
    "# Tabelas Dimensão\n",
    "dim_agente = inadimplencia_silver_df.select('SigAgente', 'NumCNPJ').distinct()\n",
    "dim_agente.write.format('parquet').mode('overwrite').save('dbfs:/mnt/Aneel/Gold/dim_agente')\n",
    "\n",
    "dim_indicador = dominio_indicadores_silver_df.select('SiglaIndicador', 'DescricaoIndicador').distinct()\n",
    "dim_indicador.write.format('parquet').mode('overwrite').save('dbfs:/mnt/Aneel/Gold/dim_indicador')\n",
    "\n",
    "# Dimensão Tempo usando 'AnoIndice' e 'NumPeriodoIndice'\n",
    "dim_tempo = inadimplencia_silver_df.select('AnoIndice', 'NumPeriodoIndice').distinct()\n",
    "dim_tempo = dim_tempo.withColumnRenamed('AnoIndice', 'Ano')\n",
    "dim_tempo = dim_tempo.withColumnRenamed('NumPeriodoIndice', 'Mes')\n",
    "\n",
    "# Calcular o trimestre a partir de 'Mes'\n",
    "dim_tempo = dim_tempo.withColumn('Trimestre', \n",
    "    when(col('Mes').between(1, 3), 1)\n",
    "    .when(col('Mes').between(4, 6), 2)\n",
    "    .when(col('Mes').between(7, 9), 3)\n",
    "    .otherwise(4)\n",
    ")\n",
    "\n",
    "dim_tempo.write.format('parquet').mode('overwrite').save('dbfs:/mnt/Aneel/Gold/dim_tempo')\n",
    "\n",
    "# Verificar os dados das tabelas fato e dimensão\n",
    "print(\"Tabela Dimensão Tempo\")\n",
    "display(dim_tempo)\n",
    "print(\"Tabela Dimensão Agente\")\n",
    "display(dim_agente)\n",
    "print(\"Tabela Dimensão Indicador\")\n",
    "display(dim_indicador)\n",
    "print(\"Tabela Fato de Dados Econômicos\")\n",
    "display(fact_economicos)\n",
    "print(\"Tabela Fato de Inadimplência\")\n",
    "display(fact_inadimplencia)\n"
   ]
  }
 ],
 "metadata": {
  "application/vnd.databricks.v1+notebook": {
   "dashboards": [
    {
     "elements": [
      {
       "dashboardResultIndex": 0,
       "elementNUID": "b3061af1-deea-4099-b22e-cc83562b9413",
       "elementType": "command",
       "guid": "60988204-1058-4193-a2bc-0c8863d48e97",
       "options": null,
       "position": null,
       "resultIndex": null
      },
      {
       "dashboardResultIndex": 1,
       "elementNUID": "b3061af1-deea-4099-b22e-cc83562b9413",
       "elementType": "command",
       "guid": "9d7fb5ef-5502-4d4e-9b2e-95b70f458016",
       "options": null,
       "position": null,
       "resultIndex": null
      },
      {
       "dashboardResultIndex": 2,
       "elementNUID": "b3061af1-deea-4099-b22e-cc83562b9413",
       "elementType": "command",
       "guid": "ca425a5d-c4f7-4b38-a219-f6825d97cb7b",
       "options": null,
       "position": null,
       "resultIndex": null
      },
      {
       "dashboardResultIndex": 3,
       "elementNUID": "b3061af1-deea-4099-b22e-cc83562b9413",
       "elementType": "command",
       "guid": "f5000670-c93e-465b-9934-f0cc7f200c32",
       "options": null,
       "position": null,
       "resultIndex": null
      }
     ],
     "globalVars": {},
     "guid": "",
     "layoutOption": {
      "grid": true,
      "stack": true
     },
     "nuid": "75796774-235b-4ab1-b31e-5ae38bfc33fd",
     "origId": 4285177940806510,
     "title": "Untitled",
     "version": "DashboardViewV1",
     "width": 1024
    },
    {
     "elements": [
      {
       "dashboardResultIndex": 0,
       "elementNUID": "b3061af1-deea-4099-b22e-cc83562b9413",
       "elementType": "command",
       "guid": "1b9c3190-0b1d-483c-897c-cba0d8da5d35",
       "options": null,
       "position": null,
       "resultIndex": null
      },
      {
       "dashboardResultIndex": 1,
       "elementNUID": "b3061af1-deea-4099-b22e-cc83562b9413",
       "elementType": "command",
       "guid": "4f657c7a-1c7d-4176-af47-348ecd1245bd",
       "options": null,
       "position": null,
       "resultIndex": null
      },
      {
       "dashboardResultIndex": 2,
       "elementNUID": "b3061af1-deea-4099-b22e-cc83562b9413",
       "elementType": "command",
       "guid": "5d01160f-e578-45dd-9249-24d270b3c1e4",
       "options": null,
       "position": null,
       "resultIndex": null
      },
      {
       "dashboardResultIndex": 3,
       "elementNUID": "b3061af1-deea-4099-b22e-cc83562b9413",
       "elementType": "command",
       "guid": "61c4b097-95e4-4711-a680-adc5b0ef3ec0",
       "options": null,
       "position": null,
       "resultIndex": null
      },
      {
       "dashboardResultIndex": 4,
       "elementNUID": "b3061af1-deea-4099-b22e-cc83562b9413",
       "elementType": "command",
       "guid": "0c11c92c-3c8a-4cc5-81bb-55bfd47e887f",
       "options": null,
       "position": null,
       "resultIndex": null
      },
      {
       "dashboardResultIndex": 5,
       "elementNUID": "b3061af1-deea-4099-b22e-cc83562b9413",
       "elementType": "command",
       "guid": "a701f8e1-8f19-4dd9-a01b-6c53f86405b7",
       "options": null,
       "position": null,
       "resultIndex": null
      },
      {
       "dashboardResultIndex": 6,
       "elementNUID": "b3061af1-deea-4099-b22e-cc83562b9413",
       "elementType": "command",
       "guid": "cd79ab1b-b3e4-48ff-8a1d-3126a371482b",
       "options": null,
       "position": null,
       "resultIndex": null
      },
      {
       "dashboardResultIndex": 7,
       "elementNUID": "b3061af1-deea-4099-b22e-cc83562b9413",
       "elementType": "command",
       "guid": "572f440e-18d8-471c-ad7c-a703452c5063",
       "options": null,
       "position": null,
       "resultIndex": null
      }
     ],
     "globalVars": {},
     "guid": "",
     "layoutOption": {
      "grid": true,
      "stack": true
     },
     "nuid": "ce048544-3b01-4aaf-9033-f906f98232b1",
     "origId": 4285177940806511,
     "title": "Untitled",
     "version": "DashboardViewV1",
     "width": 1024
    },
    {
     "elements": [
      {
       "dashboardResultIndex": 0,
       "elementNUID": "b3061af1-deea-4099-b22e-cc83562b9413",
       "elementType": "command",
       "guid": "4c85a04b-9f7a-45a1-8179-76621c040253",
       "options": null,
       "position": null,
       "resultIndex": null
      },
      {
       "dashboardResultIndex": 1,
       "elementNUID": "b3061af1-deea-4099-b22e-cc83562b9413",
       "elementType": "command",
       "guid": "d605863a-679b-4176-8053-830ed5b1546b",
       "options": null,
       "position": null,
       "resultIndex": null
      },
      {
       "dashboardResultIndex": 2,
       "elementNUID": "b3061af1-deea-4099-b22e-cc83562b9413",
       "elementType": "command",
       "guid": "abaa4eb5-2585-4d89-bd74-16bebce2f975",
       "options": null,
       "position": null,
       "resultIndex": null
      },
      {
       "dashboardResultIndex": 3,
       "elementNUID": "b3061af1-deea-4099-b22e-cc83562b9413",
       "elementType": "command",
       "guid": "7e0b2030-fd59-4563-a608-02e88299d6a3",
       "options": null,
       "position": null,
       "resultIndex": null
      },
      {
       "dashboardResultIndex": 4,
       "elementNUID": "b3061af1-deea-4099-b22e-cc83562b9413",
       "elementType": "command",
       "guid": "f18d843c-5f9b-4c55-a217-d871a65a7cf7",
       "options": null,
       "position": null,
       "resultIndex": null
      },
      {
       "dashboardResultIndex": 5,
       "elementNUID": "b3061af1-deea-4099-b22e-cc83562b9413",
       "elementType": "command",
       "guid": "12985afc-cdc0-4206-b550-72e511a3fdc6",
       "options": null,
       "position": null,
       "resultIndex": null
      },
      {
       "dashboardResultIndex": 6,
       "elementNUID": "b3061af1-deea-4099-b22e-cc83562b9413",
       "elementType": "command",
       "guid": "6e2e9c5a-1b57-4646-a1c6-4af85e02abbc",
       "options": null,
       "position": null,
       "resultIndex": null
      },
      {
       "dashboardResultIndex": 7,
       "elementNUID": "b3061af1-deea-4099-b22e-cc83562b9413",
       "elementType": "command",
       "guid": "5e75005d-16f0-4f9c-a8c4-90cdfa3cc235",
       "options": null,
       "position": null,
       "resultIndex": null
      }
     ],
     "globalVars": {},
     "guid": "",
     "layoutOption": {
      "grid": true,
      "stack": true
     },
     "nuid": "0f9021e8-ca1f-4c31-9868-cfb92d0e4129",
     "origId": 4285177940806512,
     "title": "Untitled",
     "version": "DashboardViewV1",
     "width": 1024
    }
   ],
   "environmentMetadata": null,
   "language": "python",
   "notebookMetadata": {
    "pythonIndentUnit": 4
   },
   "notebookName": "camada_gold",
   "widgets": {}
  }
 },
 "nbformat": 4,
 "nbformat_minor": 0
}
